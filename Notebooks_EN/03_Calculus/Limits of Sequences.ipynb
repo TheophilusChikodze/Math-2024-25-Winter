{
  "nbformat": 4,
  "nbformat_minor": 0,
  "metadata": {
    "colab": {
      "provenance": [],
      "authorship_tag": "ABX9TyNGzKPZ0ZuFE6xha5zkoAm9",
      "include_colab_link": true
    },
    "kernelspec": {
      "name": "python3",
      "display_name": "Python 3"
    },
    "language_info": {
      "name": "python"
    }
  },
  "cells": [
    {
      "cell_type": "markdown",
      "metadata": {
        "id": "view-in-github",
        "colab_type": "text"
      },
      "source": [
        "<a href=\"https://colab.research.google.com/github/TheophilusChikodze/Math-2024-25-Winter/blob/main/Notebooks_EN/03_Calculus/Untitled7.ipynb\" target=\"_parent\"><img src=\"https://colab.research.google.com/assets/colab-badge.svg\" alt=\"Open In Colab\"/></a>"
      ]
    },
    {
      "cell_type": "markdown",
      "source": [
        "## Limits of Sequences\n",
        "\n",
        "#Question 1\n",
        " **Calculate:**\n",
        "\n",
        "$$\\lim_{n \\to \\infty} \\frac{n^2 + 3n^2}{n^2 - 2n}$$  \n",
        "\n",
        "\n",
        "- Simplify the expression:  \n",
        "$$\\frac{n^2 + 3n^2}{n^2 - 2n} = \\frac{4n^2}{n^2 - 2n}$$  \n",
        "\n",
        "\\\\\n",
        "\n",
        "- Divide numerator and denominator by $n^2$:  \n",
        "$$\\frac{4}{1 - \\frac{2}{n}}$$  \n",
        "\n",
        "\\\\\n",
        "\n",
        "- $$n \\to \\infty, \\frac{2}{n} \\to 0$$  \n",
        "- Thus  \n",
        "$$\\lim_{n \\to \\infty} \\frac{4}{1 - \\frac{2}{n}} = \\frac{4}{1 - 0} = 4$$  \n",
        "\n"
      ],
      "metadata": {
        "id": "YixTsdunPtsL"
      }
    },
    {
      "cell_type": "markdown",
      "source": [
        "\n",
        "\n",
        "#Question 2\n",
        " **Calculate:**  \n",
        "\n",
        "$$\\lim_{n \\to \\infty} \\frac{(2n + 3)^3}{n^3 - 1}$$  \n",
        "\n",
        "\n",
        "- Expand $$(2n + 3)^3$$ using the binomial theorem:  \n",
        "$$\n",
        "(2n + 3)^3 = 8n^3 + 12n^2 \\cdot 3 + 6n \\cdot 9 + 27 = 8n^3 + 36n^2 + 54n + 27\n",
        "$$  \n",
        "\n",
        "- Divide numerator and denominator by $$n^3$$:  \n",
        "$$\n",
        "\\frac{(2n + 3)^3}{n^3 - 1} = \\frac{8n^3 + 36n^2 + 54n + 27}{n^3 - 1} = \\frac{8 + \\frac{36}{n} + \\frac{54}{n^2} + \\frac{27}{n^3}}{1 - \\frac{1}{n^3}}\n",
        "$$  \n",
        "\n",
        "\\\\\n",
        "\n",
        "- As $n \\to \\infty$, terms with $\\frac{1}{n}, \\frac{1}{n^2}, \\frac{1}{n^3}$ vanish.\n",
        "\n",
        "\\\\\n",
        "\n",
        "Thus,  \n",
        "$$\\lim_{n \\to \\infty} \\frac{(2n + 3)^3}{n^3 - 1} = \\frac{8}{1} = 8$$  \n",
        "\n"
      ],
      "metadata": {
        "id": "xDRxWUIURnnH"
      }
    },
    {
      "cell_type": "markdown",
      "source": [
        "\n",
        "#Question 3\n",
        "**Prove using the squeeze theorem:**\n",
        "\n",
        "$$\\lim_{n \\to \\infty} \\frac{\\sin(n)}{n}$$  \n",
        "\n",
        "\\\\\n",
        "\n",
        "####$-1 \\leq \\sin(n) \\leq 1$\n",
        "\n",
        " Dividing through by $n > 0$:  \n",
        "\n",
        "\\\\\n",
        "\n",
        "$$\n",
        "-\\frac{1}{n} \\leq \\frac{\\sin(n)}{n} \\leq \\frac{1}{n}\n",
        "$$\n",
        "\n",
        "As $n \\to \\infty$, $\\frac{1}{n} \\to 0$ and $-\\frac{1}{n} \\to 0$.  \n",
        "\n",
        "\\\\\n",
        "\n",
        "By using the squeeze theorem,  \n",
        "\n",
        "\\\\\n",
        "\n",
        "$\\lim_{n \\to \\infty} \\frac{\\sin(n)}{n} = 0$  \n",
        "\n",
        "\n"
      ],
      "metadata": {
        "id": "ehmcpXv2R26M"
      }
    },
    {
      "cell_type": "markdown",
      "source": [
        "#Question 4\n",
        "**Find the limit of the sequence:**\n",
        "\n",
        "$a_n = \\left(1 + \\frac{1}{n}\\right)^n$  \n",
        "\n",
        "\\\\\n",
        "\n",
        "$\\lim_{n \\to \\infty} \\left(1 + \\frac{1}{n}\\right)^n = e$  \n",
        "\n",
        "\\\\\n",
        "\n",
        "Thus,  \n",
        "\n",
        "\\\\\n",
        "\n",
        "$\\lim_{n \\to \\infty} a_n = e$  "
      ],
      "metadata": {
        "id": "M7z13iTHTQVR"
      }
    }
  ]
}
