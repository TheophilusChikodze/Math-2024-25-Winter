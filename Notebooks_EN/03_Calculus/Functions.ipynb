{
  "nbformat": 4,
  "nbformat_minor": 0,
  "metadata": {
    "colab": {
      "provenance": [],
      "authorship_tag": "ABX9TyPMRSK9pCodsnSd64Himym1",
      "include_colab_link": true
    },
    "kernelspec": {
      "name": "python3",
      "display_name": "Python 3"
    },
    "language_info": {
      "name": "python"
    }
  },
  "cells": [
    {
      "cell_type": "markdown",
      "metadata": {
        "id": "view-in-github",
        "colab_type": "text"
      },
      "source": [
        "<a href=\"https://colab.research.google.com/github/TheophilusChikodze/Math-2024-25-Winter/blob/main/Notebooks_EN/03_Calculus/Functions_exercise.ipynb\" target=\"_parent\"><img src=\"https://colab.research.google.com/assets/colab-badge.svg\" alt=\"Open In Colab\"/></a>"
      ]
    },
    {
      "cell_type": "markdown",
      "source": [
        "## Functions\n",
        "\n",
        "# Question 1\n",
        " Draw in a single Geogebra notebook the following functions:\n",
        "   - $$f(x) = x^2$$\n",
        "   - $$g(x) = \\sqrt{x}$$\n",
        "   - $$h(x) = \\frac{1}{x}$$\n",
        "   - $$j(x) = \\sin(x)$$\n",
        "\n",
        "Find value of all the above functions at $$x = 2$$.\n",
        "$$\n",
        "f(2) = 2^2 = 4\n",
        "$$\n",
        "$$\n",
        "g(2) = \\sqrt{2} \\approx 1.414\n",
        "$$\n",
        "$$\n",
        "h(2) = \\frac{1}{2} = 0.5\n",
        "$$\n",
        "$$\n",
        "j(2) = \\sin(2) \\approx 0.909\n",
        "$$\n",
        "\n",
        "[Visualization](https://www.geogebra.org/calculator/uaydhm5q)\n",
        "\n",
        "---\n",
        "\n",
        "#Question 2\n",
        " Let $f(x) = 3x - 1$ and $g(x) = \\sqrt{x}$.\n",
        "\n",
        "\n",
        " Find:\n",
        "   - $$f(g(x)) = f(\\sqrt{x}) = 3\\sqrt{x} - 1$$\n",
        "   - $$g(f(x)) = g(3x - 1) = \\sqrt{3x - 1}$$\n",
        "   - $$f(f(x)) = f(3x - 1) = 3(3x - 1) - 1 = 9x - 4$$\n",
        "   - $$g(g(x)) = g(\\sqrt{x}) = \\sqrt{\\sqrt{x}} = x^{1/4}$$\n",
        "\n",
        "[Visualization](https://www.geogebra.org/calculator/xseeeumm)\n",
        "\n",
        "---\n",
        "\n",
        "#Question 3\n",
        " Let $f(x) = e^x$ and $g(x) = \\ln(x)$.\n",
        "\n",
        "Check:\n",
        "   - $$f(g(x)) = f(\\ln(x)) = e^{\\ln(x)} = x$$\n",
        "   - $$g(f(x)) = g(e^x) = \\ln(e^x) = x$$\n",
        "\n",
        "** The functions $f$ and $g$ are inverses of each other, so applying one after the other returns the input value.  \n",
        "\n",
        "[Visualization](https://www.geogebra.org/calculator/ur3cfa8p)\n",
        "\n",
        "---\n",
        "\n",
        "#Question 4\n",
        "We have function $$f = \\{(1,7), (2,9), (3,11)\\}$$ Give inverse function $$f^{-1}$$  \n",
        "$$\n",
        "f^{-1} = \\{(7,1), (9,2), (11,3)\\}\n",
        "$$\n",
        "\n",
        "---\n",
        "\n",
        "#Question 5\n",
        "We have function $$f = \\{(1,7), (2,7), (3,11)\\}$$  \n",
        "** This function is not invertible because it fails the horizontal line test. Points $(1,7)$ and $(2,7)$ have the same $y$-value, which makes the inverse undefined.\n",
        "\n",
        "---\n",
        "\n",
        "#Question 6\n",
        "We have function $$f(x) = x - 1$$\n",
        "\n",
        "Give inverse function $f^{-1}$.  \n",
        "\n",
        "\\\\\n",
        "\n",
        "The inverse function is:\n",
        "$$\n",
        "f^{-1}(x) = x + 1\n",
        "$$\n",
        "\n",
        "**    $g(x) = x + 1$ is the inverse function of $f(x) = x - 1$.\n",
        "\n",
        "\n",
        "[Visualization](https://www.geogebra.org/calculator/mjcyxnqa)\n",
        "\n",
        "\n",
        "\n",
        "\n"
      ],
      "metadata": {
        "id": "c_oE4lnWLDwJ"
      }
    }
  ]
}
