{
  "cells": [
    {
      "cell_type": "markdown",
      "metadata": {
        "id": "view-in-github",
        "colab_type": "text"
      },
      "source": [
        "<a href=\"https://colab.research.google.com/github/TheophilusChikodze/Math-2024-25-Winter/blob/main/Notebooks_EN/01_Linear_Algebra/01_Matrices/LA_Matrix_inversion_of_a_matrix_using_gauss_en.ipynb\" target=\"_parent\"><img src=\"https://colab.research.google.com/assets/colab-badge.svg\" alt=\"Open In Colab\"/></a>"
      ]
    },
    {
      "cell_type": "markdown",
      "metadata": {
        "id": "cXBofTPtusJa"
      },
      "source": [
        "# Matrix Inversion using Gauss elimination method"
      ]
    },
    {
      "cell_type": "code",
      "execution_count": 1,
      "metadata": {
        "id": "kpSY0PjAusJm"
      },
      "outputs": [],
      "source": [
        "from sympy import Matrix, Rational, latex\n",
        "from IPython.display import display, Markdown, Math, HTML\n",
        "\n",
        "class InvertibleMatrix:\n",
        "    def __init__(self, matrix):\n",
        "        \"\"\"\n",
        "        Initializes a matrix to be inverted using the Gauss-Jordan method.\n",
        "\n",
        "        Parameters:\n",
        "        - matrix: The square matrix to be inverted.\n",
        "        \"\"\"\n",
        "        # Convert all entries to Rational numbers\n",
        "        self.matrix = Matrix(matrix).applyfunc(Rational)\n",
        "        self.operations = []\n",
        "\n",
        "        # Check if the matrix is square\n",
        "        if self.matrix.rows != self.matrix.cols:\n",
        "            raise ValueError(\"The matrix must be square.\")\n",
        "\n",
        "        # Create the augmented matrix with the identity matrix (with Rational entries)\n",
        "        identity = Matrix.eye(self.matrix.rows).applyfunc(Rational)\n",
        "        self.aug_matrix = self.matrix.row_join(identity)\n",
        "\n",
        "        display(Markdown(\"**Initial Matrix (Starting matrix):**\"))\n",
        "        self.display_matrix()\n",
        "\n",
        "    def __repr__(self):\n",
        "        return repr(self.aug_matrix)\n",
        "\n",
        "    def __str__(self):\n",
        "        return str(self.aug_matrix)\n",
        "\n",
        "    def _repr_latex_(self):\n",
        "        return self.aug_matrix._repr_latex_()\n",
        "\n",
        "    def _validate_row_number(self, row):\n",
        "        if not isinstance(row, int):\n",
        "            raise TypeError(\"Row number must be an integer.\")\n",
        "        if row < 1 or row > self.aug_matrix.rows:\n",
        "            raise IndexError(f\"Row number must be in the range from 1 to {self.aug_matrix.rows}.\")\n",
        "        return row - 1\n",
        "\n",
        "    def add_row(self, target_row, source_row, coefficient):\n",
        "        target_idx = self._validate_row_number(target_row)\n",
        "        source_idx = self._validate_row_number(source_row)\n",
        "        coefficient = Rational(coefficient)\n",
        "\n",
        "        self.aug_matrix.row_op(target_idx, lambda v, j: v + coefficient * self.aug_matrix[source_idx, j])\n",
        "\n",
        "        operation_str = f\"r{target_row} = r{target_row} + {coefficient}*r{source_row}\"\n",
        "        self.operations.append(operation_str)\n",
        "        display(Markdown(f\"**Operation:** {operation_str}\"))\n",
        "        self.display_matrix()\n",
        "\n",
        "    def multiply_row(self, row, coefficient):\n",
        "        row_idx = self._validate_row_number(row)\n",
        "        coefficient = Rational(coefficient)\n",
        "\n",
        "        self.aug_matrix.row_op(row_idx, lambda v, _: coefficient * v)\n",
        "\n",
        "        operation_str = f\"r{row} = {coefficient}*r{row}\"\n",
        "        self.operations.append(operation_str)\n",
        "        display(Markdown(f\"**Operation:** {operation_str}\"))\n",
        "        self.display_matrix()\n",
        "\n",
        "    def swap_rows(self, row1, row2):\n",
        "        row1_idx = self._validate_row_number(row1)\n",
        "        row2_idx = self._validate_row_number(row2)\n",
        "\n",
        "        self.aug_matrix.row_swap(row1_idx, row2_idx)\n",
        "\n",
        "        operation_str = f\"Swap r{row1} <-> r{row2}\"\n",
        "        self.operations.append(operation_str)\n",
        "        display(Markdown(f\"**Operation:** {operation_str}\"))\n",
        "        self.display_matrix()\n",
        "\n",
        "    def display_matrix(self):\n",
        "        \"\"\"Displays the left and right matrix side by side in LaTeX format.\"\"\"\n",
        "        left_matrix = self.aug_matrix[:, :self.matrix.cols]\n",
        "        right_matrix = self.aug_matrix[:, self.matrix.cols:]\n",
        "\n",
        "        # Generate LaTeX code for both matrices\n",
        "        left_latex = latex(left_matrix)\n",
        "        right_latex = latex(right_matrix)\n",
        "\n",
        "        # Combine both matrices into a single display output\n",
        "        combined_latex = r\"\"\"\n",
        "        %s\n",
        "        \\quad\n",
        "        %s\n",
        "        \"\"\" % (left_latex, right_latex)\n",
        "\n",
        "        display(Math(combined_latex))\n",
        "\n",
        "    def print_operations(self):\n",
        "        display(Markdown(\"**Performed Operations:**\"))\n",
        "        for op in self.operations:\n",
        "            print(op)\n",
        "\n",
        "    def get_inverse(self):\n",
        "        \"\"\"Returns the inverse of the matrix after performing Gauss-Jordan elimination.\"\"\"\n",
        "        # Check if the left part of the augmented matrix is the identity matrix\n",
        "        left_matrix = self.aug_matrix[:, :self.matrix.cols]\n",
        "        if not left_matrix == Matrix.eye(self.matrix.rows):\n",
        "            raise ValueError(\"The matrix has not been reduced to the identity matrix. Continue the operations.\")\n",
        "        # Return the right part of the augmented matrix as the inverse\n",
        "        inverse_matrix = self.aug_matrix[:, self.matrix.cols:]\n",
        "        display(Markdown(\"**Inverse Matrix:**\"))\n",
        "        display(Math(latex(inverse_matrix)))\n",
        "        return inverse_matrix"
      ]
    },
    {
      "cell_type": "markdown",
      "metadata": {
        "id": "VXHwPwHDusJr"
      },
      "source": [
        "**Example 1:**"
      ]
    },
    {
      "cell_type": "code",
      "execution_count": 2,
      "metadata": {
        "id": "qQ__9cbSusJt",
        "outputId": "39426dd4-00ec-4832-aab0-52b6096baaf2",
        "colab": {
          "base_uri": "https://localhost:8080/",
          "height": 87
        }
      },
      "outputs": [
        {
          "output_type": "display_data",
          "data": {
            "text/plain": [
              "<IPython.core.display.Markdown object>"
            ],
            "text/markdown": "**Initial Matrix (Starting matrix):**"
          },
          "metadata": {}
        },
        {
          "output_type": "display_data",
          "data": {
            "text/plain": [
              "<IPython.core.display.Math object>"
            ],
            "text/latex": "$\\displaystyle \n        \\left[\\begin{matrix}2 & 1\\\\5 & 3\\end{matrix}\\right] \n        \\quad\n        \\left[\\begin{matrix}1 & 0\\\\0 & 1\\end{matrix}\\right]\n        $"
          },
          "metadata": {}
        }
      ],
      "source": [
        "# Create an instance of the class with a matrix to be inverted\n",
        "initial_matrix = [[2, 1], [5, 3]] # 2x2 matrix\n",
        "m = InvertibleMatrix(initial_matrix) # Create an instance of the class"
      ]
    },
    {
      "cell_type": "code",
      "execution_count": 3,
      "metadata": {
        "id": "fGyw0Tj4usJw",
        "outputId": "a4ee0193-0dd1-43d4-dc64-7ce22c8b3032",
        "colab": {
          "base_uri": "https://localhost:8080/",
          "height": 76
        }
      },
      "outputs": [
        {
          "output_type": "stream",
          "name": "stdout",
          "text": [
            "The inverse matrix is:\n"
          ]
        },
        {
          "output_type": "execute_result",
          "data": {
            "text/plain": [
              "Matrix([\n",
              "[ 3, -1],\n",
              "[-5,  2]])"
            ],
            "text/latex": "$\\displaystyle \\left[\\begin{matrix}3 & -1\\\\-5 & 2\\end{matrix}\\right]$"
          },
          "metadata": {},
          "execution_count": 3
        }
      ],
      "source": [
        "import sympy as sp # import the sympy library\n",
        "a = sp.Matrix(initial_matrix) # create the initial matrix\n",
        "print(\"The inverse matrix is:\")\n",
        "a.inv() # calculate the inverse matrix"
      ]
    },
    {
      "cell_type": "code",
      "execution_count": 4,
      "metadata": {
        "id": "n6zmDGPFusJy",
        "outputId": "f0411c35-f441-467e-f964-a1bf0886705a",
        "colab": {
          "base_uri": "https://localhost:8080/",
          "height": 87
        }
      },
      "outputs": [
        {
          "output_type": "display_data",
          "data": {
            "text/plain": [
              "<IPython.core.display.Markdown object>"
            ],
            "text/markdown": "**Operation:** r2 = r2 + -5/2*r1"
          },
          "metadata": {}
        },
        {
          "output_type": "display_data",
          "data": {
            "text/plain": [
              "<IPython.core.display.Math object>"
            ],
            "text/latex": "$\\displaystyle \n        \\left[\\begin{matrix}2 & 1\\\\0 & \\frac{1}{2}\\end{matrix}\\right] \n        \\quad\n        \\left[\\begin{matrix}1 & 0\\\\- \\frac{5}{2} & 1\\end{matrix}\\right]\n        $"
          },
          "metadata": {}
        }
      ],
      "source": [
        "# Add -5/2 times \"row 1\" to \"row 2\"\n",
        "m.add_row(2, 1, -5/2)"
      ]
    },
    {
      "cell_type": "code",
      "execution_count": 5,
      "metadata": {
        "id": "dVTG1hTHusJz",
        "outputId": "6fffc070-6dc4-4dc7-f83a-9d133f060e20",
        "colab": {
          "base_uri": "https://localhost:8080/",
          "height": 87
        }
      },
      "outputs": [
        {
          "output_type": "display_data",
          "data": {
            "text/plain": [
              "<IPython.core.display.Markdown object>"
            ],
            "text/markdown": "**Operation:** r1 = 1/2*r1"
          },
          "metadata": {}
        },
        {
          "output_type": "display_data",
          "data": {
            "text/plain": [
              "<IPython.core.display.Math object>"
            ],
            "text/latex": "$\\displaystyle \n        \\left[\\begin{matrix}1 & \\frac{1}{2}\\\\0 & \\frac{1}{2}\\end{matrix}\\right] \n        \\quad\n        \\left[\\begin{matrix}\\frac{1}{2} & 0\\\\- \\frac{5}{2} & 1\\end{matrix}\\right]\n        $"
          },
          "metadata": {}
        }
      ],
      "source": [
        "# Multiply \"row 1\" by 1/2\n",
        "m.multiply_row(1, 1/2)"
      ]
    },
    {
      "cell_type": "code",
      "execution_count": 6,
      "metadata": {
        "id": "H09xi64YusJ1",
        "outputId": "23df7350-daaf-4e13-e868-1f19095af9ad",
        "colab": {
          "base_uri": "https://localhost:8080/",
          "height": 87
        }
      },
      "outputs": [
        {
          "output_type": "display_data",
          "data": {
            "text/plain": [
              "<IPython.core.display.Markdown object>"
            ],
            "text/markdown": "**Operation:** r1 = r1 + -1*r2"
          },
          "metadata": {}
        },
        {
          "output_type": "display_data",
          "data": {
            "text/plain": [
              "<IPython.core.display.Math object>"
            ],
            "text/latex": "$\\displaystyle \n        \\left[\\begin{matrix}1 & 0\\\\0 & \\frac{1}{2}\\end{matrix}\\right] \n        \\quad\n        \\left[\\begin{matrix}3 & -1\\\\- \\frac{5}{2} & 1\\end{matrix}\\right]\n        $"
          },
          "metadata": {}
        }
      ],
      "source": [
        "# Add -1 times \"row 2\" to \"row 1\"\n",
        "m.add_row(1, 2, -1)"
      ]
    },
    {
      "cell_type": "code",
      "execution_count": 7,
      "metadata": {
        "id": "DPZPPnykusJ3",
        "outputId": "015523e3-eccd-4829-feff-51212e1593a1",
        "colab": {
          "base_uri": "https://localhost:8080/",
          "height": 87
        }
      },
      "outputs": [
        {
          "output_type": "display_data",
          "data": {
            "text/plain": [
              "<IPython.core.display.Markdown object>"
            ],
            "text/markdown": "**Operation:** r2 = 2*r2"
          },
          "metadata": {}
        },
        {
          "output_type": "display_data",
          "data": {
            "text/plain": [
              "<IPython.core.display.Math object>"
            ],
            "text/latex": "$\\displaystyle \n        \\left[\\begin{matrix}1 & 0\\\\0 & 1\\end{matrix}\\right] \n        \\quad\n        \\left[\\begin{matrix}3 & -1\\\\-5 & 2\\end{matrix}\\right]\n        $"
          },
          "metadata": {}
        }
      ],
      "source": [
        "# Multiply \"row 2\" by 2\n",
        "m.multiply_row(2, 2)"
      ]
    },
    {
      "cell_type": "markdown",
      "metadata": {
        "id": "U8U5F6OzusJ5"
      },
      "source": [
        "The matrix has been correctly computed!\n",
        "\n",
        "**Example 2**"
      ]
    },
    {
      "cell_type": "code",
      "execution_count": 8,
      "metadata": {
        "id": "Ixxjr5fZusJ6",
        "outputId": "1f831979-bf15-4ba2-ed24-e8ace64a4ee9",
        "colab": {
          "base_uri": "https://localhost:8080/",
          "height": 107
        }
      },
      "outputs": [
        {
          "output_type": "display_data",
          "data": {
            "text/plain": [
              "<IPython.core.display.Markdown object>"
            ],
            "text/markdown": "**Initial Matrix (Starting matrix):**"
          },
          "metadata": {}
        },
        {
          "output_type": "display_data",
          "data": {
            "text/plain": [
              "<IPython.core.display.Math object>"
            ],
            "text/latex": "$\\displaystyle \n        \\left[\\begin{matrix}2 & 1 & 2\\\\5 & 3 & 1\\\\1 & 1 & 5\\end{matrix}\\right] \n        \\quad\n        \\left[\\begin{matrix}1 & 0 & 0\\\\0 & 1 & 0\\\\0 & 0 & 1\\end{matrix}\\right]\n        $"
          },
          "metadata": {}
        }
      ],
      "source": [
        "initial_matrix = [[2, 1, 2], [5, 3, 1], [1, 1, 5]] # 3x3 matrix\n",
        "m = InvertibleMatrix(initial_matrix) # Create an instance of the class\n",
        "sympy_m = sp.Matrix(initial_matrix) # create the initial matrix"
      ]
    },
    {
      "cell_type": "code",
      "execution_count": 9,
      "metadata": {
        "id": "ixDYNecgusJ9",
        "outputId": "da47974b-79d6-4e6a-bf45-113dabc46ebe",
        "colab": {
          "base_uri": "https://localhost:8080/",
          "height": 78
        }
      },
      "outputs": [
        {
          "output_type": "execute_result",
          "data": {
            "text/plain": [
              "Matrix([\n",
              "[7/4, -3/8, -5/8],\n",
              "[ -3,    1,    1],\n",
              "[1/4, -1/8,  1/8]])"
            ],
            "text/latex": "$\\displaystyle \\left[\\begin{matrix}\\frac{7}{4} & - \\frac{3}{8} & - \\frac{5}{8}\\\\-3 & 1 & 1\\\\\\frac{1}{4} & - \\frac{1}{8} & \\frac{1}{8}\\end{matrix}\\right]$"
          },
          "metadata": {},
          "execution_count": 9
        }
      ],
      "source": [
        "inverse = sympy_m.inv() # calculate the inverse matrix\n",
        "inverse"
      ]
    },
    {
      "cell_type": "code",
      "execution_count": 10,
      "metadata": {
        "id": "5UkHHegRusKA",
        "outputId": "106b04fd-1c4e-42d0-9381-63fc12d3fce4",
        "colab": {
          "base_uri": "https://localhost:8080/",
          "height": 107
        }
      },
      "outputs": [
        {
          "output_type": "display_data",
          "data": {
            "text/plain": [
              "<IPython.core.display.Markdown object>"
            ],
            "text/markdown": "**Operation:** r2 = r2 + -5*r3"
          },
          "metadata": {}
        },
        {
          "output_type": "display_data",
          "data": {
            "text/plain": [
              "<IPython.core.display.Math object>"
            ],
            "text/latex": "$\\displaystyle \n        \\left[\\begin{matrix}2 & 1 & 2\\\\0 & -2 & -24\\\\1 & 1 & 5\\end{matrix}\\right] \n        \\quad\n        \\left[\\begin{matrix}1 & 0 & 0\\\\0 & 1 & -5\\\\0 & 0 & 1\\end{matrix}\\right]\n        $"
          },
          "metadata": {}
        }
      ],
      "source": [
        "m.add_row(2, 3, -5)"
      ]
    },
    {
      "cell_type": "code",
      "execution_count": 11,
      "metadata": {
        "id": "H7ZrAApXusKC",
        "outputId": "32a04098-5600-49d8-c9ce-eb7b763c17e5",
        "colab": {
          "base_uri": "https://localhost:8080/",
          "height": 107
        }
      },
      "outputs": [
        {
          "output_type": "display_data",
          "data": {
            "text/plain": [
              "<IPython.core.display.Markdown object>"
            ],
            "text/markdown": "**Operation:** r3 = r3 + -1/2*r1"
          },
          "metadata": {}
        },
        {
          "output_type": "display_data",
          "data": {
            "text/plain": [
              "<IPython.core.display.Math object>"
            ],
            "text/latex": "$\\displaystyle \n        \\left[\\begin{matrix}2 & 1 & 2\\\\0 & -2 & -24\\\\0 & \\frac{1}{2} & 4\\end{matrix}\\right] \n        \\quad\n        \\left[\\begin{matrix}1 & 0 & 0\\\\0 & 1 & -5\\\\- \\frac{1}{2} & 0 & 1\\end{matrix}\\right]\n        $"
          },
          "metadata": {}
        }
      ],
      "source": [
        "m.add_row(3, 1, -1/2)"
      ]
    },
    {
      "cell_type": "code",
      "execution_count": 12,
      "metadata": {
        "id": "87AlZ9ZBusKD",
        "outputId": "db295263-c481-4859-bf1d-2047e3d3537d",
        "colab": {
          "base_uri": "https://localhost:8080/",
          "height": 107
        }
      },
      "outputs": [
        {
          "output_type": "display_data",
          "data": {
            "text/plain": [
              "<IPython.core.display.Markdown object>"
            ],
            "text/markdown": "**Operation:** r3 = 4*r3"
          },
          "metadata": {}
        },
        {
          "output_type": "display_data",
          "data": {
            "text/plain": [
              "<IPython.core.display.Math object>"
            ],
            "text/latex": "$\\displaystyle \n        \\left[\\begin{matrix}2 & 1 & 2\\\\0 & -2 & -24\\\\0 & 2 & 16\\end{matrix}\\right] \n        \\quad\n        \\left[\\begin{matrix}1 & 0 & 0\\\\0 & 1 & -5\\\\-2 & 0 & 4\\end{matrix}\\right]\n        $"
          },
          "metadata": {}
        }
      ],
      "source": [
        "m.multiply_row(3, 4)"
      ]
    },
    {
      "cell_type": "code",
      "execution_count": 13,
      "metadata": {
        "id": "U8sKy9QsusKE",
        "outputId": "15676be6-1c1a-41ba-8d2f-72b0ff9adafe",
        "colab": {
          "base_uri": "https://localhost:8080/",
          "height": 107
        }
      },
      "outputs": [
        {
          "output_type": "display_data",
          "data": {
            "text/plain": [
              "<IPython.core.display.Markdown object>"
            ],
            "text/markdown": "**Operation:** r3 = r3 + 1*r2"
          },
          "metadata": {}
        },
        {
          "output_type": "display_data",
          "data": {
            "text/plain": [
              "<IPython.core.display.Math object>"
            ],
            "text/latex": "$\\displaystyle \n        \\left[\\begin{matrix}2 & 1 & 2\\\\0 & -2 & -24\\\\0 & 0 & -8\\end{matrix}\\right] \n        \\quad\n        \\left[\\begin{matrix}1 & 0 & 0\\\\0 & 1 & -5\\\\-2 & 1 & -1\\end{matrix}\\right]\n        $"
          },
          "metadata": {}
        }
      ],
      "source": [
        "m.add_row(3, 2, 1)"
      ]
    },
    {
      "cell_type": "code",
      "execution_count": 14,
      "metadata": {
        "id": "XnH0sjN0usKF",
        "outputId": "6be314d8-cedb-44a2-eee1-24c50d16ac7a",
        "colab": {
          "base_uri": "https://localhost:8080/",
          "height": 107
        }
      },
      "outputs": [
        {
          "output_type": "display_data",
          "data": {
            "text/plain": [
              "<IPython.core.display.Markdown object>"
            ],
            "text/markdown": "**Operation:** r3 = -1/8*r3"
          },
          "metadata": {}
        },
        {
          "output_type": "display_data",
          "data": {
            "text/plain": [
              "<IPython.core.display.Math object>"
            ],
            "text/latex": "$\\displaystyle \n        \\left[\\begin{matrix}2 & 1 & 2\\\\0 & -2 & -24\\\\0 & 0 & 1\\end{matrix}\\right] \n        \\quad\n        \\left[\\begin{matrix}1 & 0 & 0\\\\0 & 1 & -5\\\\\\frac{1}{4} & - \\frac{1}{8} & \\frac{1}{8}\\end{matrix}\\right]\n        $"
          },
          "metadata": {}
        }
      ],
      "source": [
        "m.multiply_row(3, -1/8)"
      ]
    },
    {
      "cell_type": "code",
      "execution_count": 15,
      "metadata": {
        "id": "kYbYn-k3usKG",
        "outputId": "1b32fddf-ad92-4f51-df42-1d427f828209",
        "colab": {
          "base_uri": "https://localhost:8080/",
          "height": 108
        }
      },
      "outputs": [
        {
          "output_type": "display_data",
          "data": {
            "text/plain": [
              "<IPython.core.display.Markdown object>"
            ],
            "text/markdown": "**Operation:** r2 = -1/2*r2"
          },
          "metadata": {}
        },
        {
          "output_type": "display_data",
          "data": {
            "text/plain": [
              "<IPython.core.display.Math object>"
            ],
            "text/latex": "$\\displaystyle \n        \\left[\\begin{matrix}2 & 1 & 2\\\\0 & 1 & 12\\\\0 & 0 & 1\\end{matrix}\\right] \n        \\quad\n        \\left[\\begin{matrix}1 & 0 & 0\\\\0 & - \\frac{1}{2} & \\frac{5}{2}\\\\\\frac{1}{4} & - \\frac{1}{8} & \\frac{1}{8}\\end{matrix}\\right]\n        $"
          },
          "metadata": {}
        }
      ],
      "source": [
        "m.multiply_row(2, -1/2)"
      ]
    },
    {
      "cell_type": "code",
      "execution_count": 16,
      "metadata": {
        "id": "YNRUddrKusKG",
        "outputId": "54b087c5-6454-4e64-c2c2-fec0c2cea1b4",
        "colab": {
          "base_uri": "https://localhost:8080/",
          "height": 107
        }
      },
      "outputs": [
        {
          "output_type": "display_data",
          "data": {
            "text/plain": [
              "<IPython.core.display.Markdown object>"
            ],
            "text/markdown": "**Operation:** r2 = r2 + -12*r3"
          },
          "metadata": {}
        },
        {
          "output_type": "display_data",
          "data": {
            "text/plain": [
              "<IPython.core.display.Math object>"
            ],
            "text/latex": "$\\displaystyle \n        \\left[\\begin{matrix}2 & 1 & 2\\\\0 & 1 & 0\\\\0 & 0 & 1\\end{matrix}\\right] \n        \\quad\n        \\left[\\begin{matrix}1 & 0 & 0\\\\-3 & 1 & 1\\\\\\frac{1}{4} & - \\frac{1}{8} & \\frac{1}{8}\\end{matrix}\\right]\n        $"
          },
          "metadata": {}
        }
      ],
      "source": [
        "m.add_row(2, 3, -12)"
      ]
    },
    {
      "cell_type": "code",
      "execution_count": 17,
      "metadata": {
        "id": "qLbfH3g6usKH",
        "outputId": "5b37069d-3293-4cdc-d4b7-e12c01938c32",
        "colab": {
          "base_uri": "https://localhost:8080/",
          "height": 108
        }
      },
      "outputs": [
        {
          "output_type": "display_data",
          "data": {
            "text/plain": [
              "<IPython.core.display.Markdown object>"
            ],
            "text/markdown": "**Operation:** r1 = r1 + -2*r3"
          },
          "metadata": {}
        },
        {
          "output_type": "display_data",
          "data": {
            "text/plain": [
              "<IPython.core.display.Math object>"
            ],
            "text/latex": "$\\displaystyle \n        \\left[\\begin{matrix}2 & 1 & 0\\\\0 & 1 & 0\\\\0 & 0 & 1\\end{matrix}\\right] \n        \\quad\n        \\left[\\begin{matrix}\\frac{1}{2} & \\frac{1}{4} & - \\frac{1}{4}\\\\-3 & 1 & 1\\\\\\frac{1}{4} & - \\frac{1}{8} & \\frac{1}{8}\\end{matrix}\\right]\n        $"
          },
          "metadata": {}
        }
      ],
      "source": [
        "m.add_row(1, 3, -2)"
      ]
    },
    {
      "cell_type": "code",
      "execution_count": 18,
      "metadata": {
        "id": "3ZUZ2i_YusKI",
        "outputId": "30c1c6ea-697a-4c05-9124-24170141c31d",
        "colab": {
          "base_uri": "https://localhost:8080/",
          "height": 108
        }
      },
      "outputs": [
        {
          "output_type": "display_data",
          "data": {
            "text/plain": [
              "<IPython.core.display.Markdown object>"
            ],
            "text/markdown": "**Operation:** r1 = r1 + -1*r2"
          },
          "metadata": {}
        },
        {
          "output_type": "display_data",
          "data": {
            "text/plain": [
              "<IPython.core.display.Math object>"
            ],
            "text/latex": "$\\displaystyle \n        \\left[\\begin{matrix}2 & 0 & 0\\\\0 & 1 & 0\\\\0 & 0 & 1\\end{matrix}\\right] \n        \\quad\n        \\left[\\begin{matrix}\\frac{7}{2} & - \\frac{3}{4} & - \\frac{5}{4}\\\\-3 & 1 & 1\\\\\\frac{1}{4} & - \\frac{1}{8} & \\frac{1}{8}\\end{matrix}\\right]\n        $"
          },
          "metadata": {}
        }
      ],
      "source": [
        "m.add_row(1, 2, -1)"
      ]
    },
    {
      "cell_type": "code",
      "execution_count": 19,
      "metadata": {
        "id": "hOfmbbHmusKI",
        "outputId": "61206ab9-445e-4ff8-a771-5818eb172fee",
        "colab": {
          "base_uri": "https://localhost:8080/",
          "height": 108
        }
      },
      "outputs": [
        {
          "output_type": "display_data",
          "data": {
            "text/plain": [
              "<IPython.core.display.Markdown object>"
            ],
            "text/markdown": "**Operation:** r1 = 1/2*r1"
          },
          "metadata": {}
        },
        {
          "output_type": "display_data",
          "data": {
            "text/plain": [
              "<IPython.core.display.Math object>"
            ],
            "text/latex": "$\\displaystyle \n        \\left[\\begin{matrix}1 & 0 & 0\\\\0 & 1 & 0\\\\0 & 0 & 1\\end{matrix}\\right] \n        \\quad\n        \\left[\\begin{matrix}\\frac{7}{4} & - \\frac{3}{8} & - \\frac{5}{8}\\\\-3 & 1 & 1\\\\\\frac{1}{4} & - \\frac{1}{8} & \\frac{1}{8}\\end{matrix}\\right]\n        $"
          },
          "metadata": {}
        }
      ],
      "source": [
        "m.multiply_row(1, 1/2)"
      ]
    },
    {
      "cell_type": "markdown",
      "metadata": {
        "id": "gRUZv6QbusKJ"
      },
      "source": [
        "---\n",
        "\n",
        "## Exercises for Students\n",
        "\n",
        "Find the inverse matrices using the Gauss method:\n",
        "\n",
        "$$\n",
        "A=\n",
        "\\begin{bmatrix}\n",
        "1 & 2\\\\\n",
        "3 & 4\n",
        "\\end{bmatrix}\n",
        ", \\qquad\n",
        "B=\n",
        "\\begin{bmatrix}\n",
        "1 & 2 & 3 \\\\\n",
        "4 & 5 & 1 \\\\\n",
        "2 & 3 & 2\n",
        "\\end{bmatrix}\n",
        ",\\qquad\n",
        "C=\n",
        "\\begin{bmatrix}\n",
        "0 & 0 & 1\\\\\n",
        "0 & 1 & 0\\\\\n",
        "1 & 0 & 0\n",
        "\\end{bmatrix}\n",
        "$$"
      ]
    },
    {
      "cell_type": "markdown",
      "source": [
        "Question A"
      ],
      "metadata": {
        "id": "YZmLUW60A6sb"
      }
    },
    {
      "cell_type": "code",
      "source": [
        "initial_matrix = [[1, 2], [3, 4]]\n",
        "m = InvertibleMatrix(initial_matrix)"
      ],
      "metadata": {
        "id": "oo4r2XJ3A-Jo",
        "outputId": "c6865ea5-fca9-47b3-e19e-e7c4e45bed0b",
        "colab": {
          "base_uri": "https://localhost:8080/",
          "height": 87
        }
      },
      "execution_count": 21,
      "outputs": [
        {
          "output_type": "display_data",
          "data": {
            "text/plain": [
              "<IPython.core.display.Markdown object>"
            ],
            "text/markdown": "**Initial Matrix (Starting matrix):**"
          },
          "metadata": {}
        },
        {
          "output_type": "display_data",
          "data": {
            "text/plain": [
              "<IPython.core.display.Math object>"
            ],
            "text/latex": "$\\displaystyle \n        \\left[\\begin{matrix}1 & 2\\\\3 & 4\\end{matrix}\\right] \n        \\quad\n        \\left[\\begin{matrix}1 & 0\\\\0 & 1\\end{matrix}\\right]\n        $"
          },
          "metadata": {}
        }
      ]
    },
    {
      "cell_type": "code",
      "source": [
        "import sympy as sp\n",
        "a = sp.Matrix(initial_matrix)\n",
        "print(\"The inverse matrix is:\")\n",
        "a.inv()"
      ],
      "metadata": {
        "id": "w0t5sVFxBYQs",
        "outputId": "0db57be1-bf61-48cf-8c49-c4f50e39d75b",
        "colab": {
          "base_uri": "https://localhost:8080/",
          "height": 76
        }
      },
      "execution_count": 22,
      "outputs": [
        {
          "output_type": "stream",
          "name": "stdout",
          "text": [
            "The inverse matrix is:\n"
          ]
        },
        {
          "output_type": "execute_result",
          "data": {
            "text/plain": [
              "Matrix([\n",
              "[ -2,    1],\n",
              "[3/2, -1/2]])"
            ],
            "text/latex": "$\\displaystyle \\left[\\begin{matrix}-2 & 1\\\\\\frac{3}{2} & - \\frac{1}{2}\\end{matrix}\\right]$"
          },
          "metadata": {},
          "execution_count": 22
        }
      ]
    },
    {
      "cell_type": "code",
      "source": [
        "m.add_row(2,1,-3)"
      ],
      "metadata": {
        "id": "wkdvZmGEBgWG",
        "outputId": "75208cdf-af8c-4be5-cdaf-70c7077f224a",
        "colab": {
          "base_uri": "https://localhost:8080/",
          "height": 87
        }
      },
      "execution_count": 23,
      "outputs": [
        {
          "output_type": "display_data",
          "data": {
            "text/plain": [
              "<IPython.core.display.Markdown object>"
            ],
            "text/markdown": "**Operation:** r2 = r2 + -3*r1"
          },
          "metadata": {}
        },
        {
          "output_type": "display_data",
          "data": {
            "text/plain": [
              "<IPython.core.display.Math object>"
            ],
            "text/latex": "$\\displaystyle \n        \\left[\\begin{matrix}1 & 2\\\\0 & -2\\end{matrix}\\right] \n        \\quad\n        \\left[\\begin{matrix}1 & 0\\\\-3 & 1\\end{matrix}\\right]\n        $"
          },
          "metadata": {}
        }
      ]
    },
    {
      "cell_type": "code",
      "source": [
        "m.multiply_row(2,-1/2)"
      ],
      "metadata": {
        "id": "tokKyPCUBhE-",
        "outputId": "62bbc8b5-197f-4945-cd84-084811b9ad69",
        "colab": {
          "base_uri": "https://localhost:8080/",
          "height": 87
        }
      },
      "execution_count": 24,
      "outputs": [
        {
          "output_type": "display_data",
          "data": {
            "text/plain": [
              "<IPython.core.display.Markdown object>"
            ],
            "text/markdown": "**Operation:** r2 = -1/2*r2"
          },
          "metadata": {}
        },
        {
          "output_type": "display_data",
          "data": {
            "text/plain": [
              "<IPython.core.display.Math object>"
            ],
            "text/latex": "$\\displaystyle \n        \\left[\\begin{matrix}1 & 2\\\\0 & 1\\end{matrix}\\right] \n        \\quad\n        \\left[\\begin{matrix}1 & 0\\\\\\frac{3}{2} & - \\frac{1}{2}\\end{matrix}\\right]\n        $"
          },
          "metadata": {}
        }
      ]
    },
    {
      "cell_type": "code",
      "source": [
        "m.add_row(1,2,-2)"
      ],
      "metadata": {
        "id": "zrt0haJ8BlUn",
        "outputId": "a2d6b599-612e-4ae6-dcce-94d7721e9217",
        "colab": {
          "base_uri": "https://localhost:8080/",
          "height": 87
        }
      },
      "execution_count": 25,
      "outputs": [
        {
          "output_type": "display_data",
          "data": {
            "text/plain": [
              "<IPython.core.display.Markdown object>"
            ],
            "text/markdown": "**Operation:** r1 = r1 + -2*r2"
          },
          "metadata": {}
        },
        {
          "output_type": "display_data",
          "data": {
            "text/plain": [
              "<IPython.core.display.Math object>"
            ],
            "text/latex": "$\\displaystyle \n        \\left[\\begin{matrix}1 & 0\\\\0 & 1\\end{matrix}\\right] \n        \\quad\n        \\left[\\begin{matrix}-2 & 1\\\\\\frac{3}{2} & - \\frac{1}{2}\\end{matrix}\\right]\n        $"
          },
          "metadata": {}
        }
      ]
    },
    {
      "cell_type": "markdown",
      "source": [
        "Question B"
      ],
      "metadata": {
        "id": "CzpPSFZYKId9"
      }
    },
    {
      "cell_type": "code",
      "source": [
        "initial_matrix = [[1, 2, 3], [4, 5, 1], [2, 3, 2]]\n",
        "m = InvertibleMatrix(initial_matrix)\n",
        "sympy_m = sp.Matrix(initial_matrix)"
      ],
      "metadata": {
        "id": "JqfZu5VmKL2P",
        "outputId": "4e445807-74df-431e-bb3f-63f9ed069869",
        "colab": {
          "base_uri": "https://localhost:8080/",
          "height": 107
        }
      },
      "execution_count": 59,
      "outputs": [
        {
          "output_type": "display_data",
          "data": {
            "text/plain": [
              "<IPython.core.display.Markdown object>"
            ],
            "text/markdown": "**Initial Matrix (Starting matrix):**"
          },
          "metadata": {}
        },
        {
          "output_type": "display_data",
          "data": {
            "text/plain": [
              "<IPython.core.display.Math object>"
            ],
            "text/latex": "$\\displaystyle \n        \\left[\\begin{matrix}1 & 2 & 3\\\\4 & 5 & 1\\\\2 & 3 & 2\\end{matrix}\\right] \n        \\quad\n        \\left[\\begin{matrix}1 & 0 & 0\\\\0 & 1 & 0\\\\0 & 0 & 1\\end{matrix}\\right]\n        $"
          },
          "metadata": {}
        }
      ]
    },
    {
      "cell_type": "code",
      "source": [
        "print(\"The inverse matrix is:\")\n",
        "sympy_m.inv()"
      ],
      "metadata": {
        "id": "SQi7lY3DL4i0",
        "outputId": "76f33bd4-3900-4aa9-fe18-2e14b82a015f",
        "colab": {
          "base_uri": "https://localhost:8080/",
          "height": 96
        }
      },
      "execution_count": 63,
      "outputs": [
        {
          "output_type": "stream",
          "name": "stdout",
          "text": [
            "The inverse matrix is:\n"
          ]
        },
        {
          "output_type": "execute_result",
          "data": {
            "text/plain": [
              "Matrix([\n",
              "[ 7,  5, -13],\n",
              "[-6, -4,  11],\n",
              "[ 2,  1,  -3]])"
            ],
            "text/latex": "$\\displaystyle \\left[\\begin{matrix}7 & 5 & -13\\\\-6 & -4 & 11\\\\2 & 1 & -3\\end{matrix}\\right]$"
          },
          "metadata": {},
          "execution_count": 63
        }
      ]
    },
    {
      "cell_type": "code",
      "source": [
        "m.add_row(2, 1, -4)\n",
        "m.add_row(3, 1, -2)\n",
        "m.add_row(3, 2, -1)\n",
        "m.multiply_row(2, -1/3)\n",
        "m.add_row(1, 2, -2)\n",
        "m.add_row(3, 2, 1)\n",
        "m.multiply_row(3, -3/7)\n",
        "m.add_row(2, 3, -1/3)\n",
        "m.add_row(1, 3, -1)"
      ],
      "metadata": {
        "id": "qE-FDdPGMAjT",
        "outputId": "f26784ff-1ea8-4403-e2fe-857ff8f26878",
        "colab": {
          "base_uri": "https://localhost:8080/",
          "height": 852
        }
      },
      "execution_count": 64,
      "outputs": [
        {
          "output_type": "display_data",
          "data": {
            "text/plain": [
              "<IPython.core.display.Markdown object>"
            ],
            "text/markdown": "**Operation:** r2 = r2 + -4*r1"
          },
          "metadata": {}
        },
        {
          "output_type": "display_data",
          "data": {
            "text/plain": [
              "<IPython.core.display.Math object>"
            ],
            "text/latex": "$\\displaystyle \n        \\left[\\begin{matrix}1 & \\frac{417238140417977225296743029164325}{324518553658426726783156020576256} & \\frac{77266322299625432584559182853853}{324518553658426726783156020576256}\\\\-4 & - \\frac{21713738611773415804655914726840221339205571931575}{5846006549323611672814739330865132078623730171904} & \\frac{24775932518561969385801727548736200024719574308961}{5846006549323611672814739330865132078623730171904}\\\\0 & - \\frac{417238140417977189267946010200357}{324518553658426726783156020576256} & - \\frac{1483513388152807783205979535816413}{324518553658426726783156020576256}\\end{matrix}\\right] \n        \\quad\n        \\left[\\begin{matrix}- \\frac{19316580574906349782311916311113}{81129638414606681695789005144064} & \\frac{30906528919850165313367169077833}{324518553658426726783156020576256} & \\frac{7720456504063707}{18014398509481984}\\\\\\frac{4036528331675826690181560548572507470802033848515}{1461501637330902918203684832716283019655932542976} & - \\frac{5289244020816600851869400161205556190932741402819}{5846006549323611672814739330865132078623730171904} & - \\frac{509957727177527687781533018788425}{324518553658426726783156020576256}\\\\- \\frac{115899483449438107701070752607671}{81129638414606681695789005144064} & \\frac{185439173519100973865804504985015}{324518553658426726783156020576256} & - \\frac{7720456504063707}{18014398509481984}\\end{matrix}\\right]\n        $"
          },
          "metadata": {}
        },
        {
          "output_type": "display_data",
          "data": {
            "text/plain": [
              "<IPython.core.display.Markdown object>"
            ],
            "text/markdown": "**Operation:** r3 = r3 + -2*r1"
          },
          "metadata": {}
        },
        {
          "output_type": "display_data",
          "data": {
            "text/plain": [
              "<IPython.core.display.Math object>"
            ],
            "text/latex": "$\\displaystyle \n        \\left[\\begin{matrix}1 & \\frac{417238140417977225296743029164325}{324518553658426726783156020576256} & \\frac{77266322299625432584559182853853}{324518553658426726783156020576256}\\\\-4 & - \\frac{21713738611773415804655914726840221339205571931575}{5846006549323611672814739330865132078623730171904} & \\frac{24775932518561969385801727548736200024719574308961}{5846006549323611672814739330865132078623730171904}\\\\-2 & - \\frac{1251714421253931639861432068529007}{324518553658426726783156020576256} & - \\frac{1638046032752058648375097901524119}{324518553658426726783156020576256}\\end{matrix}\\right] \n        \\quad\n        \\left[\\begin{matrix}- \\frac{19316580574906349782311916311113}{81129638414606681695789005144064} & \\frac{30906528919850165313367169077833}{324518553658426726783156020576256} & \\frac{7720456504063707}{18014398509481984}\\\\\\frac{4036528331675826690181560548572507470802033848515}{1461501637330902918203684832716283019655932542976} & - \\frac{5289244020816600851869400161205556190932741402819}{5846006549323611672814739330865132078623730171904} & - \\frac{509957727177527687781533018788425}{324518553658426726783156020576256}\\\\- \\frac{77266322299625408136446919985445}{81129638414606681695789005144064} & \\frac{123626115679400643239070166829349}{324518553658426726783156020576256} & - \\frac{23161369512191121}{18014398509481984}\\end{matrix}\\right]\n        $"
          },
          "metadata": {}
        },
        {
          "output_type": "display_data",
          "data": {
            "text/plain": [
              "<IPython.core.display.Markdown object>"
            ],
            "text/markdown": "**Operation:** r3 = r3 + -1*r2"
          },
          "metadata": {}
        },
        {
          "output_type": "display_data",
          "data": {
            "text/plain": [
              "<IPython.core.display.Math object>"
            ],
            "text/latex": "$\\displaystyle \n        \\left[\\begin{matrix}1 & \\frac{417238140417977225296743029164325}{324518553658426726783156020576256} & \\frac{77266322299625432584559182853853}{324518553658426726783156020576256}\\\\-4 & - \\frac{21713738611773415804655914726840221339205571931575}{5846006549323611672814739330865132078623730171904} & \\frac{24775932518561969385801727548736200024719574308961}{5846006549323611672814739330865132078623730171904}\\\\2 & - \\frac{835143792760514562465447082580480658962875978313}{5846006549323611672814739330865132078623730171904} & - \\frac{54284346529433531846820614694259741352826346281057}{5846006549323611672814739330865132078623730171904}\\end{matrix}\\right] \n        \\quad\n        \\left[\\begin{matrix}- \\frac{19316580574906349782311916311113}{81129638414606681695789005144064} & \\frac{30906528919850165313367169077833}{324518553658426726783156020576256} & \\frac{7720456504063707}{18014398509481984}\\\\\\frac{4036528331675826690181560548572507470802033848515}{1461501637330902918203684832716283019655932542976} & - \\frac{5289244020816600851869400161205556190932741402819}{5846006549323611672814739330865132078623730171904} & - \\frac{509957727177527687781533018788425}{324518553658426726783156020576256}\\\\- \\frac{5428434652943353224860549065231187412785803571395}{1461501637330902918203684832716283019655932542976} & \\frac{7516294134844643131188566944713502069262459351235}{5846006549323611672814739330865132078623730171904} & \\frac{92719586759550490793130504524361}{324518553658426726783156020576256}\\end{matrix}\\right]\n        $"
          },
          "metadata": {}
        },
        {
          "output_type": "display_data",
          "data": {
            "text/plain": [
              "<IPython.core.display.Markdown object>"
            ],
            "text/markdown": "**Operation:** r2 = -6004799503160661/18014398509481984*r2"
          },
          "metadata": {}
        },
        {
          "output_type": "display_data",
          "data": {
            "text/plain": [
              "<IPython.core.display.Math object>"
            ],
            "text/latex": "$\\displaystyle \n        \\left[\\begin{matrix}1 & \\frac{417238140417977225296743029164325}{324518553658426726783156020576256} & \\frac{77266322299625432584559182853853}{324518553658426726783156020576256}\\\\\\frac{6004799503160661}{4503599627370496} & \\frac{130386646827737468131516310594332365774000489550130416399323771075}{105312291668557186697918027683670432318895095400549111254310977536} & - \\frac{148774507277802978136928113404684833536252194156992052774434983221}{105312291668557186697918027683670432318895095400549111254310977536}\\\\2 & - \\frac{835143792760514562465447082580480658962875978313}{5846006549323611672814739330865132078623730171904} & - \\frac{54284346529433531846820614694259741352826346281057}{5846006549323611672814739330865132078623730171904}\\end{matrix}\\right] \n        \\quad\n        \\left[\\begin{matrix}- \\frac{19316580574906349782311916311113}{81129638414606681695789005144064} & \\frac{30906528919850165313367169077833}{324518553658426726783156020576256} & \\frac{7720456504063707}{18014398509481984}\\\\- \\frac{24238543320540935944611739753703859919430047487718574848181268415}{26328072917139296674479506920917608079723773850137277813577744384} & \\frac{31760849868295021683083166618377433395450944545266499165475303359}{105312291668557186697918027683670432318895095400549111254310977536} & \\frac{3062193906788558170765357419645492978484342148925}{5846006549323611672814739330865132078623730171904}\\\\- \\frac{5428434652943353224860549065231187412785803571395}{1461501637330902918203684832716283019655932542976} & \\frac{7516294134844643131188566944713502069262459351235}{5846006549323611672814739330865132078623730171904} & \\frac{92719586759550490793130504524361}{324518553658426726783156020576256}\\end{matrix}\\right]\n        $"
          },
          "metadata": {}
        },
        {
          "output_type": "display_data",
          "data": {
            "text/plain": [
              "<IPython.core.display.Markdown object>"
            ],
            "text/markdown": "**Operation:** r1 = r1 + -2*r2"
          },
          "metadata": {}
        },
        {
          "output_type": "display_data",
          "data": {
            "text/plain": [
              "<IPython.core.display.Math object>"
            ],
            "text/latex": "$\\displaystyle \n        \\left[\\begin{matrix}- \\frac{3752999689475413}{2251799813685248} & - \\frac{62685887897950704419139500037171065055772239863317094399015137475}{52656145834278593348959013841835216159447547700274555627155488768} & \\frac{161311684857393122890255586535843278561852895983492799584279940405}{52656145834278593348959013841835216159447547700274555627155488768}\\\\\\frac{6004799503160661}{4503599627370496} & \\frac{130386646827737468131516310594332365774000489550130416399323771075}{105312291668557186697918027683670432318895095400549111254310977536} & - \\frac{148774507277802978136928113404684833536252194156992052774434983221}{105312291668557186697918027683670432318895095400549111254310977536}\\\\2 & - \\frac{835143792760514562465447082580480658962875978313}{5846006549323611672814739330865132078623730171904} & - \\frac{54284346529433531846820614694259741352826346281057}{5846006549323611672814739330865132078623730171904}\\end{matrix}\\right] \n        \\quad\n        \\left[\\begin{matrix}\\frac{21104248925643401113388534706752759633921232346229437600162901951}{13164036458569648337239753460458804039861886925068638906788872192} & - \\frac{26745978836458965034467866506688110445525502964646262221087436735}{52656145834278593348959013841835216159447547700274555627155488768} & - \\frac{1809478217647784310416174775551548986598404378429}{2923003274661805836407369665432566039311865085952}\\\\- \\frac{24238543320540935944611739753703859919430047487718574848181268415}{26328072917139296674479506920917608079723773850137277813577744384} & \\frac{31760849868295021683083166618377433395450944545266499165475303359}{105312291668557186697918027683670432318895095400549111254310977536} & \\frac{3062193906788558170765357419645492978484342148925}{5846006549323611672814739330865132078623730171904}\\\\- \\frac{5428434652943353224860549065231187412785803571395}{1461501637330902918203684832716283019655932542976} & \\frac{7516294134844643131188566944713502069262459351235}{5846006549323611672814739330865132078623730171904} & \\frac{92719586759550490793130504524361}{324518553658426726783156020576256}\\end{matrix}\\right]\n        $"
          },
          "metadata": {}
        },
        {
          "output_type": "display_data",
          "data": {
            "text/plain": [
              "<IPython.core.display.Markdown object>"
            ],
            "text/markdown": "**Operation:** r3 = r3 + 1*r2"
          },
          "metadata": {}
        },
        {
          "output_type": "display_data",
          "data": {
            "text/plain": [
              "<IPython.core.display.Math object>"
            ],
            "text/latex": "$\\displaystyle \n        \\left[\\begin{matrix}- \\frac{3752999689475413}{2251799813685248} & - \\frac{62685887897950704419139500037171065055772239863317094399015137475}{52656145834278593348959013841835216159447547700274555627155488768} & \\frac{161311684857393122890255586535843278561852895983492799584279940405}{52656145834278593348959013841835216159447547700274555627155488768}\\\\\\frac{6004799503160661}{4503599627370496} & \\frac{130386646827737468131516310594332365774000489550130416399323771075}{105312291668557186697918027683670432318895095400549111254310977536} & - \\frac{148774507277802978136928113404684833536252194156992052774434983221}{105312291668557186697918027683670432318895095400549111254310977536}\\\\\\frac{15011998757901653}{4503599627370496} & \\frac{115342033732229323657556089455000809072025848650127230048475558083}{105312291668557186697918027683670432318895095400549111254310977536} & - \\frac{1126674358485833905330539902557078996174130856714583622204376960309}{105312291668557186697918027683670432318895095400549111254310977536}\\end{matrix}\\right] \n        \\quad\n        \\left[\\begin{matrix}\\frac{21104248925643401113388534706752759633921232346229437600162901951}{13164036458569648337239753460458804039861886925068638906788872192} & - \\frac{26745978836458965034467866506688110445525502964646262221087436735}{52656145834278593348959013841835216159447547700274555627155488768} & - \\frac{1809478217647784310416174775551548986598404378429}{2923003274661805836407369665432566039311865085952}\\\\- \\frac{24238543320540935944611739753703859919430047487718574848181268415}{26328072917139296674479506920917608079723773850137277813577744384} & \\frac{31760849868295021683083166618377433395450944545266499165475303359}{105312291668557186697918027683670432318895095400549111254310977536} & \\frac{3062193906788558170765357419645492978484342148925}{5846006549323611672814739330865132078623730171904}\\\\- \\frac{122028528441344029387764205728057093069274583514587690646791516095}{26328072917139296674479506920917608079723773850137277813577744384} & \\frac{167162367727868539364492538860013820754421799593178787682035953599}{105312291668557186697918027683670432318895095400549111254310977536} & \\frac{4732481492309590030924060991545995744154760761149}{5846006549323611672814739330865132078623730171904}\\end{matrix}\\right]\n        $"
          },
          "metadata": {}
        },
        {
          "output_type": "display_data",
          "data": {
            "text/plain": [
              "<IPython.core.display.Markdown object>"
            ],
            "text/markdown": "**Operation:** r3 = -7720456504063707/18014398509481984*r3"
          },
          "metadata": {}
        },
        {
          "output_type": "display_data",
          "data": {
            "text/plain": [
              "<IPython.core.display.Math object>"
            ],
            "text/latex": "$\\displaystyle \n        \\left[\\begin{matrix}- \\frac{3752999689475413}{2251799813685248} & - \\frac{62685887897950704419139500037171065055772239863317094399015137475}{52656145834278593348959013841835216159447547700274555627155488768} & \\frac{161311684857393122890255586535843278561852895983492799584279940405}{52656145834278593348959013841835216159447547700274555627155488768}\\\\\\frac{6004799503160661}{4503599627370496} & \\frac{130386646827737468131516310594332365774000489550130416399323771075}{105312291668557186697918027683670432318895095400549111254310977536} & - \\frac{148774507277802978136928113404684833536252194156992052774434983221}{105312291668557186697918027683670432318895095400549111254310977536}\\\\- \\frac{115899483449438107701070752607671}{81129638414606681695789005144064} & - \\frac{890493154519925371194479113099918737516293904210545944395211013131625354210793681}{1897137590064188545819787018382342682267975428761855001222473056385648716020711424} & \\frac{8698440378933761009628944081135219472826563520878464552188376899305143142746405463}{1897137590064188545819787018382342682267975428761855001222473056385648716020711424}\\end{matrix}\\right] \n        \\quad\n        \\left[\\begin{matrix}\\frac{21104248925643401113388534706752759633921232346229437600162901951}{13164036458569648337239753460458804039861886925068638906788872192} & - \\frac{26745978836458965034467866506688110445525502964646262221087436735}{52656145834278593348959013841835216159447547700274555627155488768} & - \\frac{1809478217647784310416174775551548986598404378429}{2923003274661805836407369665432566039311865085952}\\\\- \\frac{24238543320540935944611739753703859919430047487718574848181268415}{26328072917139296674479506920917608079723773850137277813577744384} & \\frac{31760849868295021683083166618377433395450944545266499165475303359}{105312291668557186697918027683670432318895095400549111254310977536} & \\frac{3062193906788558170765357419645492978484342148925}{5846006549323611672814739330865132078623730171904}\\\\\\frac{942115946086297565649744004211778733724331614085253991024325365175698578995864165}{474284397516047136454946754595585670566993857190463750305618264096412179005177856} & - \\frac{1290569789159311779754415769338560174146520869907343674981292202952101222391931493}{1897137590064188545819787018382342682267975428761855001222473056385648716020711424} & - \\frac{36536917517662692534251794864374051011704363451849654906906519343}{105312291668557186697918027683670432318895095400549111254310977536}\\end{matrix}\\right]\n        $"
          },
          "metadata": {}
        },
        {
          "output_type": "display_data",
          "data": {
            "text/plain": [
              "<IPython.core.display.Markdown object>"
            ],
            "text/markdown": "**Operation:** r2 = r2 + -6004799503160661/18014398509481984*r3"
          },
          "metadata": {}
        },
        {
          "output_type": "display_data",
          "data": {
            "text/plain": [
              "<IPython.core.display.Math object>"
            ],
            "text/latex": "$\\displaystyle \n        \\left[\\begin{matrix}- \\frac{3752999689475413}{2251799813685248} & - \\frac{62685887897950704419139500037171065055772239863317094399015137475}{52656145834278593348959013841835216159447547700274555627155488768} & \\frac{161311684857393122890255586535843278561852895983492799584279940405}{52656145834278593348959013841835216159447547700274555627155488768}\\\\\\frac{2644622010408300317761848861127208934794783895747}{1461501637330902918203684832716283019655932542976} & \\frac{47660118896738674102185865829975268876558545582939296351891037205385256569450751843034041391178341}{34175792574734561318320347298712833833643272357706444319152665725155515612490248800367393390985216} & - \\frac{100512478388731783250047724288116353525619188518519643400919479151015678743582773199425611248091619}{34175792574734561318320347298712833833643272357706444319152665725155515612490248800367393390985216}\\\\- \\frac{115899483449438107701070752607671}{81129638414606681695789005144064} & - \\frac{890493154519925371194479113099918737516293904210545944395211013131625354210793681}{1897137590064188545819787018382342682267975428761855001222473056385648716020711424} & \\frac{8698440378933761009628944081135219472826563520878464552188376899305143142746405463}{1897137590064188545819787018382342682267975428761855001222473056385648716020711424}\\end{matrix}\\right] \n        \\quad\n        \\left[\\begin{matrix}\\frac{21104248925643401113388534706752759633921232346229437600162901951}{13164036458569648337239753460458804039861886925068638906788872192} & - \\frac{26745978836458965034467866506688110445525502964646262221087436735}{52656145834278593348959013841835216159447547700274555627155488768} & - \\frac{1809478217647784310416174775551548986598404378429}{2923003274661805836407369665432566039311865085952}\\\\- \\frac{13523074386147800157884451387913980188416626988638550837347960920207389987598825054604217839367305}{8543948143683640329580086824678208458410818089426611079788166431288878903122562200091848347746304} & \\frac{18056597890959527828117982395145713508806016706952358022797327637095678516810474598894365677040777}{34175792574734561318320347298712833833643272357706444319152665725155515612490248800367393390985216} & \\frac{1213135601809753072911838011385834846427698125953270853040719797055128142704090523}{1897137590064188545819787018382342682267975428761855001222473056385648716020711424}\\\\\\frac{942115946086297565649744004211778733724331614085253991024325365175698578995864165}{474284397516047136454946754595585670566993857190463750305618264096412179005177856} & - \\frac{1290569789159311779754415769338560174146520869907343674981292202952101222391931493}{1897137590064188545819787018382342682267975428761855001222473056385648716020711424} & - \\frac{36536917517662692534251794864374051011704363451849654906906519343}{105312291668557186697918027683670432318895095400549111254310977536}\\end{matrix}\\right]\n        $"
          },
          "metadata": {}
        },
        {
          "output_type": "display_data",
          "data": {
            "text/plain": [
              "<IPython.core.display.Markdown object>"
            ],
            "text/markdown": "**Operation:** r1 = r1 + -1*r3"
          },
          "metadata": {}
        },
        {
          "output_type": "display_data",
          "data": {
            "text/plain": [
              "<IPython.core.display.Math object>"
            ],
            "text/latex": "$\\displaystyle \n        \\left[\\begin{matrix}- \\frac{19316580574906349782311916311113}{81129638414606681695789005144064} & - \\frac{1368003976508870446478025272602830085892828692303796368393012126918144519380707119}{1897137590064188545819787018382342682267975428761855001222473056385648716020711424} & - \\frac{2886574428419660606158184529808514310820150799965022784866384555734602264864078423}{1897137590064188545819787018382342682267975428761855001222473056385648716020711424}\\\\\\frac{2644622010408300317761848861127208934794783895747}{1461501637330902918203684832716283019655932542976} & \\frac{47660118896738674102185865829975268876558545582939296351891037205385256569450751843034041391178341}{34175792574734561318320347298712833833643272357706444319152665725155515612490248800367393390985216} & - \\frac{100512478388731783250047724288116353525619188518519643400919479151015678743582773199425611248091619}{34175792574734561318320347298712833833643272357706444319152665725155515612490248800367393390985216}\\\\- \\frac{115899483449438107701070752607671}{81129638414606681695789005144064} & - \\frac{890493154519925371194479113099918737516293904210545944395211013131625354210793681}{1897137590064188545819787018382342682267975428761855001222473056385648716020711424} & \\frac{8698440378933761009628944081135219472826563520878464552188376899305143142746405463}{1897137590064188545819787018382342682267975428761855001222473056385648716020711424}\\end{matrix}\\right] \n        \\quad\n        \\left[\\begin{matrix}- \\frac{181755245306603071255958667009264483938240502283745903569429028544729564609962597}{474284397516047136454946754595585670566993857190463750305618264096412179005177856} & \\frac{326944346587025642914189957719227583129997852801793935203506977496132351947367013}{1897137590064188545819787018382342682267975428761855001222473056385648716020711424} & - \\frac{28656405896206032901687168574127675587972025754764534489680926929}{105312291668557186697918027683670432318895095400549111254310977536}\\\\- \\frac{13523074386147800157884451387913980188416626988638550837347960920207389987598825054604217839367305}{8543948143683640329580086824678208458410818089426611079788166431288878903122562200091848347746304} & \\frac{18056597890959527828117982395145713508806016706952358022797327637095678516810474598894365677040777}{34175792574734561318320347298712833833643272357706444319152665725155515612490248800367393390985216} & \\frac{1213135601809753072911838011385834846427698125953270853040719797055128142704090523}{1897137590064188545819787018382342682267975428761855001222473056385648716020711424}\\\\\\frac{942115946086297565649744004211778733724331614085253991024325365175698578995864165}{474284397516047136454946754595585670566993857190463750305618264096412179005177856} & - \\frac{1290569789159311779754415769338560174146520869907343674981292202952101222391931493}{1897137590064188545819787018382342682267975428761855001222473056385648716020711424} & - \\frac{36536917517662692534251794864374051011704363451849654906906519343}{105312291668557186697918027683670432318895095400549111254310977536}\\end{matrix}\\right]\n        $"
          },
          "metadata": {}
        }
      ]
    },
    {
      "cell_type": "markdown",
      "source": [
        "Question C"
      ],
      "metadata": {
        "id": "1WSJQ4mOE64f"
      }
    },
    {
      "cell_type": "code",
      "source": [
        "initial_matrix = [[0, 0, 1], [0, 1, 0], [1, 0, 0]]\n",
        "m = InvertibleMatrix(initial_matrix)\n",
        "c = sp.Matrix(initial_matrix)"
      ],
      "metadata": {
        "id": "cHhnYOfQE6X2",
        "outputId": "42b54dbd-6eae-48b5-bf67-e036378d52a5",
        "colab": {
          "base_uri": "https://localhost:8080/",
          "height": 107
        }
      },
      "execution_count": 28,
      "outputs": [
        {
          "output_type": "display_data",
          "data": {
            "text/plain": [
              "<IPython.core.display.Markdown object>"
            ],
            "text/markdown": "**Initial Matrix (Starting matrix):**"
          },
          "metadata": {}
        },
        {
          "output_type": "display_data",
          "data": {
            "text/plain": [
              "<IPython.core.display.Math object>"
            ],
            "text/latex": "$\\displaystyle \n        \\left[\\begin{matrix}0 & 0 & 1\\\\0 & 1 & 0\\\\1 & 0 & 0\\end{matrix}\\right] \n        \\quad\n        \\left[\\begin{matrix}1 & 0 & 0\\\\0 & 1 & 0\\\\0 & 0 & 1\\end{matrix}\\right]\n        $"
          },
          "metadata": {}
        }
      ]
    },
    {
      "cell_type": "code",
      "source": [
        "print(\"The inverse matrix is:\")\n",
        "c.inv()"
      ],
      "metadata": {
        "id": "f_yws3STFQYE",
        "outputId": "3648f05f-15a1-4440-ff73-6905b9761d6e",
        "colab": {
          "base_uri": "https://localhost:8080/",
          "height": 96
        }
      },
      "execution_count": 29,
      "outputs": [
        {
          "output_type": "stream",
          "name": "stdout",
          "text": [
            "The inverse matrix is:\n"
          ]
        },
        {
          "output_type": "execute_result",
          "data": {
            "text/plain": [
              "Matrix([\n",
              "[0, 0, 1],\n",
              "[0, 1, 0],\n",
              "[1, 0, 0]])"
            ],
            "text/latex": "$\\displaystyle \\left[\\begin{matrix}0 & 0 & 1\\\\0 & 1 & 0\\\\1 & 0 & 0\\end{matrix}\\right]$"
          },
          "metadata": {},
          "execution_count": 29
        }
      ]
    },
    {
      "cell_type": "code",
      "source": [
        "m.swap_rows(1,3)"
      ],
      "metadata": {
        "id": "8sjSevmoFRaE",
        "outputId": "b4a42752-0957-407e-ba04-4cd8fe20502f",
        "colab": {
          "base_uri": "https://localhost:8080/",
          "height": 107
        }
      },
      "execution_count": 30,
      "outputs": [
        {
          "output_type": "display_data",
          "data": {
            "text/plain": [
              "<IPython.core.display.Markdown object>"
            ],
            "text/markdown": "**Operation:** Swap r1 <-> r3"
          },
          "metadata": {}
        },
        {
          "output_type": "display_data",
          "data": {
            "text/plain": [
              "<IPython.core.display.Math object>"
            ],
            "text/latex": "$\\displaystyle \n        \\left[\\begin{matrix}1 & 0 & 0\\\\0 & 1 & 0\\\\0 & 0 & 1\\end{matrix}\\right] \n        \\quad\n        \\left[\\begin{matrix}0 & 0 & 1\\\\0 & 1 & 0\\\\1 & 0 & 0\\end{matrix}\\right]\n        $"
          },
          "metadata": {}
        }
      ]
    }
  ],
  "metadata": {
    "kernelspec": {
      "display_name": "Python 3",
      "language": "python",
      "name": "python3"
    },
    "language_info": {
      "codemirror_mode": {
        "name": "ipython",
        "version": 3
      },
      "file_extension": ".py",
      "mimetype": "text/x-python",
      "name": "python",
      "nbconvert_exporter": "python",
      "pygments_lexer": "ipython3",
      "version": "3.11.9"
    },
    "colab": {
      "provenance": [],
      "include_colab_link": true
    }
  },
  "nbformat": 4,
  "nbformat_minor": 0
}