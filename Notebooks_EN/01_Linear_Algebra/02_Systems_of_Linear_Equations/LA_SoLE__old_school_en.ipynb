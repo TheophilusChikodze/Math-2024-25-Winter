{
  "cells": [
    {
      "cell_type": "markdown",
      "metadata": {
        "id": "view-in-github",
        "colab_type": "text"
      },
      "source": [
        "<a href=\"https://colab.research.google.com/github/TheophilusChikodze/Math-2024-25-Winter/blob/main/Notebooks_EN/01_Linear_Algebra/02_Systems_of_Linear_Equations/LA_SoLE__old_school_en.ipynb\" target=\"_parent\"><img src=\"https://colab.research.google.com/assets/colab-badge.svg\" alt=\"Open In Colab\"/></a>"
      ]
    },
    {
      "cell_type": "markdown",
      "metadata": {
        "id": "H_e5iuOuklKq"
      },
      "source": [
        "# School Method for Solving Systems of Linear Equations"
      ]
    },
    {
      "cell_type": "code",
      "execution_count": 128,
      "metadata": {
        "id": "foNGdVQuklKr"
      },
      "outputs": [],
      "source": [
        "import sympy as sp\n",
        "from sympy import symbols, Eq, expand, solve\n",
        "\n",
        "class EnhancedEq(Eq):\n",
        "    def __add__(self, other):\n",
        "        return EnhancedEq(self.lhs + other.lhs, self.rhs + other.rhs)\n",
        "\n",
        "    def __sub__(self, other):\n",
        "        return EnhancedEq(self.lhs - other.lhs, self.rhs - other.rhs)\n",
        "\n",
        "    def __mul__(self, scalar):\n",
        "        return EnhancedEq(scalar * self.lhs, scalar * self.rhs)\n",
        "\n",
        "    def __rmul__(self, scalar):\n",
        "        return self.__mul__(scalar)\n",
        "\n",
        "    def simplify(self):\n",
        "        return EnhancedEq(expand(self.lhs), expand(self.rhs))\n",
        "\n",
        "    def substitute(self, *args, **kwargs):\n",
        "        return EnhancedEq(self.lhs.subs(*args, **kwargs), self.rhs.subs(*args, **kwargs))\n",
        "\n",
        "    def solve_for(self, symbol):\n",
        "        return solve(self, symbol)\n",
        "\n",
        "# Example usage:\n",
        "x, y = symbols('x y')\n",
        "\n",
        "# Define equations\n",
        "eq1 = EnhancedEq(2*x + y, 5)\n",
        "eq2 = EnhancedEq(x - y, 1)"
      ]
    },
    {
      "cell_type": "code",
      "execution_count": 16,
      "metadata": {
        "id": "dI8jjpaIklKv",
        "outputId": "da75266a-8b27-4748-d30a-657414f73bff",
        "colab": {
          "base_uri": "https://localhost:8080/",
          "height": 57
        }
      },
      "outputs": [
        {
          "output_type": "stream",
          "name": "stdout",
          "text": [
            "First equation:\n"
          ]
        },
        {
          "output_type": "execute_result",
          "data": {
            "text/plain": [
              "Eq(3*x - 2*y, 5)"
            ],
            "text/latex": "$\\displaystyle 3 x - 2 y = 5$"
          },
          "metadata": {},
          "execution_count": 16
        }
      ],
      "source": [
        "print(\"First equation:\")\n",
        "eq1"
      ]
    },
    {
      "cell_type": "code",
      "execution_count": 17,
      "metadata": {
        "id": "zPK4yebuklKx",
        "outputId": "bea1bbc3-ba58-4325-cffa-81279200663e",
        "colab": {
          "base_uri": "https://localhost:8080/",
          "height": 57
        }
      },
      "outputs": [
        {
          "output_type": "stream",
          "name": "stdout",
          "text": [
            "Second equation:\n"
          ]
        },
        {
          "output_type": "execute_result",
          "data": {
            "text/plain": [
              "Eq(2*x + 3*y, 7)"
            ],
            "text/latex": "$\\displaystyle 2 x + 3 y = 7$"
          },
          "metadata": {},
          "execution_count": 17
        }
      ],
      "source": [
        "print(\"Second equation:\")\n",
        "eq2"
      ]
    },
    {
      "cell_type": "code",
      "execution_count": 18,
      "metadata": {
        "id": "kd_r-UhjklKz",
        "outputId": "af10d2b2-2678-4607-dc38-aabd9e47388b",
        "colab": {
          "base_uri": "https://localhost:8080/",
          "height": 39
        }
      },
      "outputs": [
        {
          "output_type": "execute_result",
          "data": {
            "text/plain": [
              "Eq(5*x + y, 12)"
            ],
            "text/latex": "$\\displaystyle 5 x + y = 12$"
          },
          "metadata": {},
          "execution_count": 18
        }
      ],
      "source": [
        "# Add the equations\n",
        "eq3 = eq1 + eq2\n",
        "eq3"
      ]
    },
    {
      "cell_type": "code",
      "execution_count": 19,
      "metadata": {
        "id": "c83zFiWiklK0",
        "outputId": "5bfb9a44-b1f7-4fbc-d573-de09bf558b71",
        "colab": {
          "base_uri": "https://localhost:8080/",
          "height": 51
        }
      },
      "outputs": [
        {
          "output_type": "execute_result",
          "data": {
            "text/plain": [
              "12/5 - y/5"
            ],
            "text/latex": "$\\displaystyle \\frac{12}{5} - \\frac{y}{5}$"
          },
          "metadata": {},
          "execution_count": 19
        }
      ],
      "source": [
        "# We have an equation with one unknown, so we can solve it\n",
        "sol_x = eq3.solve_for(x)[0]\n",
        "sol_x"
      ]
    },
    {
      "cell_type": "code",
      "execution_count": 20,
      "metadata": {
        "id": "FWw5Yu_6klK1",
        "outputId": "236b8b8f-6658-4851-a469-971387f1895d",
        "colab": {
          "base_uri": "https://localhost:8080/",
          "height": 51
        }
      },
      "outputs": [
        {
          "output_type": "execute_result",
          "data": {
            "text/plain": [
              "Eq(13*y/5 + 24/5, 7)"
            ],
            "text/latex": "$\\displaystyle \\frac{13 y}{5} + \\frac{24}{5} = 7$"
          },
          "metadata": {},
          "execution_count": 20
        }
      ],
      "source": [
        "# Substitute the solution into equation 2\n",
        "eq2 = eq2.substitute(x, sol_x)\n",
        "eq2"
      ]
    },
    {
      "cell_type": "code",
      "execution_count": 21,
      "metadata": {
        "id": "tBkXe4AUklK2",
        "outputId": "73f2e2a9-e8a2-48be-91fe-f126ddfb8ed8",
        "colab": {
          "base_uri": "https://localhost:8080/",
          "height": 51
        }
      },
      "outputs": [
        {
          "output_type": "execute_result",
          "data": {
            "text/plain": [
              "11/13"
            ],
            "text/latex": "$\\displaystyle \\frac{11}{13}$"
          },
          "metadata": {},
          "execution_count": 21
        }
      ],
      "source": [
        "# We get an equation with one unknown, so we can solve it\n",
        "eq2.solve_for(y)[0]"
      ]
    },
    {
      "cell_type": "code",
      "execution_count": 22,
      "metadata": {
        "id": "93DqpGcNklK2",
        "outputId": "c57674ae-ed8b-42dd-f31a-120ff8181a0e",
        "colab": {
          "base_uri": "https://localhost:8080/"
        }
      },
      "outputs": [
        {
          "output_type": "execute_result",
          "data": {
            "text/plain": [
              "{x: 29/13, y: 11/13}"
            ]
          },
          "metadata": {},
          "execution_count": 22
        }
      ],
      "source": [
        "# Thus x=2, y=1\n",
        "# Verify with sympy\n",
        "sp.solve([eq1, eq2])"
      ]
    },
    {
      "cell_type": "markdown",
      "metadata": {
        "id": "lTCzLZTmklK3"
      },
      "source": [
        "---\n",
        "\n",
        "### Exercises for Students\n",
        "\n",
        "Solve the following systems of equations similarly to the example above:\n",
        "\n",
        "* $3x-2y=5, \\quad 2x+3y=7$,\n",
        "* $2x-3y=10, \\quad 4x+5y=20$,\n",
        "* $2x - y + z = 3, \\quad x + 2y - z = 1, \\quad 3x - y + 2z = 11$.\n",
        "* $2x-3y+4z+2t=2, \\quad 3x+2y-5z+3t=3, \\quad 4x-3y+2z-5t=4, \\quad 5x+4y-3z+2t=5$."
      ]
    },
    {
      "cell_type": "markdown",
      "source": [
        "Question 1"
      ],
      "metadata": {
        "id": "y5CBMATmknVz"
      }
    },
    {
      "cell_type": "code",
      "source": [
        "import sympy as sp\n",
        "from sympy import symbols, Eq, expand, solve\n",
        "# Question 1: 3x - 2y = 5, 2x + 3y = 7\n",
        "x, y = symbols('x y')\n",
        "eq1 = EnhancedEq(3*x - 2*y, 5)\n",
        "eq2 = EnhancedEq(2*x + 3*y, 7)\n",
        "\n",
        "eq1"
      ],
      "metadata": {
        "id": "2S9Er8hllsxd",
        "outputId": "504eae7e-a224-4bc6-ea27-4528bf2266c8",
        "colab": {
          "base_uri": "https://localhost:8080/",
          "height": 39
        }
      },
      "execution_count": 129,
      "outputs": [
        {
          "output_type": "execute_result",
          "data": {
            "text/plain": [
              "Eq(3*x - 2*y, 5)"
            ],
            "text/latex": "$\\displaystyle 3 x - 2 y = 5$"
          },
          "metadata": {},
          "execution_count": 129
        }
      ]
    },
    {
      "cell_type": "code",
      "source": [
        "eq2"
      ],
      "metadata": {
        "id": "uXmrZVm3mBHt",
        "outputId": "46cefd25-0699-4150-c18e-3d05bd9f8be1",
        "colab": {
          "base_uri": "https://localhost:8080/",
          "height": 39
        }
      },
      "execution_count": 130,
      "outputs": [
        {
          "output_type": "execute_result",
          "data": {
            "text/plain": [
              "Eq(2*x + 3*y, 7)"
            ],
            "text/latex": "$\\displaystyle 2 x + 3 y = 7$"
          },
          "metadata": {},
          "execution_count": 130
        }
      ]
    },
    {
      "cell_type": "code",
      "source": [
        "eq3 = 3 * eq1  # 9x - 6y = 15\n",
        "eq4 = 2 * eq2  # 4x + 6y = 14\n",
        "\n",
        "eq5 = eq3 + eq4 # 13x = 29\n",
        "sol_x = eq5.solve_for(x)[0]\n",
        "sol_x"
      ],
      "metadata": {
        "id": "W90VHjLVl_F8",
        "outputId": "25aca186-9490-4452-923a-d167e5a3ba84",
        "colab": {
          "base_uri": "https://localhost:8080/",
          "height": 51
        }
      },
      "execution_count": 131,
      "outputs": [
        {
          "output_type": "execute_result",
          "data": {
            "text/plain": [
              "29/13"
            ],
            "text/latex": "$\\displaystyle \\frac{29}{13}$"
          },
          "metadata": {},
          "execution_count": 131
        }
      ]
    },
    {
      "cell_type": "code",
      "source": [
        "#substitute x with the solution\n",
        "eq2 = eq2.substitute(x, sol_x)\n",
        "sol_y = eq2.solve_for(y)[0]\n",
        "sol_y"
      ],
      "metadata": {
        "id": "C4G6HJXkmPjK",
        "outputId": "4c7cc5a9-5b74-459b-b6b9-ca138f4cb978",
        "colab": {
          "base_uri": "https://localhost:8080/",
          "height": 51
        }
      },
      "execution_count": 132,
      "outputs": [
        {
          "output_type": "execute_result",
          "data": {
            "text/plain": [
              "11/13"
            ],
            "text/latex": "$\\displaystyle \\frac{11}{13}$"
          },
          "metadata": {},
          "execution_count": 132
        }
      ]
    },
    {
      "cell_type": "code",
      "source": [
        "sp.solve([eq1, eq2])"
      ],
      "metadata": {
        "id": "B73T6uhbmWHG",
        "outputId": "c2906544-d087-4449-822c-c1b05bd65775",
        "colab": {
          "base_uri": "https://localhost:8080/"
        }
      },
      "execution_count": 133,
      "outputs": [
        {
          "output_type": "execute_result",
          "data": {
            "text/plain": [
              "{x: 29/13, y: 11/13}"
            ]
          },
          "metadata": {},
          "execution_count": 133
        }
      ]
    },
    {
      "cell_type": "markdown",
      "source": [
        "Question 2"
      ],
      "metadata": {
        "id": "POhBOembzh_n"
      }
    },
    {
      "cell_type": "code",
      "source": [
        "import sympy as sp\n",
        "# Question 2: 2x - 3y = 10, 4x + 5y = 20\n",
        "x, y = symbols('x y')\n",
        "eq1 = EnhancedEq(2*x - 3*y, 10)\n",
        "eq2 = EnhancedEq(4*x + 5*y, 20)"
      ],
      "metadata": {
        "id": "vTDnTEydzjaV"
      },
      "execution_count": 134,
      "outputs": []
    },
    {
      "cell_type": "code",
      "source": [
        "eq1"
      ],
      "metadata": {
        "id": "Ygk1i6M0zxXe",
        "outputId": "353f8bb9-9270-4208-aa2f-e6fd0cdad1c9",
        "colab": {
          "base_uri": "https://localhost:8080/",
          "height": 39
        }
      },
      "execution_count": 135,
      "outputs": [
        {
          "output_type": "execute_result",
          "data": {
            "text/plain": [
              "Eq(2*x - 3*y, 10)"
            ],
            "text/latex": "$\\displaystyle 2 x - 3 y = 10$"
          },
          "metadata": {},
          "execution_count": 135
        }
      ]
    },
    {
      "cell_type": "code",
      "source": [
        "eq2"
      ],
      "metadata": {
        "id": "bMeSIPQqzzcU",
        "outputId": "170be260-8763-48dd-d35a-ece05edcd7ac",
        "colab": {
          "base_uri": "https://localhost:8080/",
          "height": 39
        }
      },
      "execution_count": 136,
      "outputs": [
        {
          "output_type": "execute_result",
          "data": {
            "text/plain": [
              "Eq(4*x + 5*y, 20)"
            ],
            "text/latex": "$\\displaystyle 4 x + 5 y = 20$"
          },
          "metadata": {},
          "execution_count": 136
        }
      ]
    },
    {
      "cell_type": "code",
      "source": [
        "eq3 = 2 * eq1 # 4x - 6y = 20\n",
        "eq4 = eq2 #4x + 5y = 20\n",
        "\n",
        "eq5 = eq4 - eq3 # 11y = 0\n",
        "sol_y = eq5.solve_for(y)[0]\n",
        "sol_y"
      ],
      "metadata": {
        "id": "0tuANfvHz7-T",
        "outputId": "52486399-91a6-45ff-e4ed-bbf51ae9715a",
        "colab": {
          "base_uri": "https://localhost:8080/",
          "height": 37
        }
      },
      "execution_count": 137,
      "outputs": [
        {
          "output_type": "execute_result",
          "data": {
            "text/plain": [
              "0"
            ],
            "text/latex": "$\\displaystyle 0$"
          },
          "metadata": {},
          "execution_count": 137
        }
      ]
    },
    {
      "cell_type": "code",
      "source": [
        "#substitute\n",
        "eq1 = eq1.substitute(y, sol_y)\n",
        "sol_x = eq1.solve_for(x)[0]\n",
        "sol_x"
      ],
      "metadata": {
        "id": "gsfMANKy0XDp",
        "outputId": "c4c7a707-93ac-4f39-e04b-476d9925d58b",
        "colab": {
          "base_uri": "https://localhost:8080/",
          "height": 37
        }
      },
      "execution_count": 138,
      "outputs": [
        {
          "output_type": "execute_result",
          "data": {
            "text/plain": [
              "5"
            ],
            "text/latex": "$\\displaystyle 5$"
          },
          "metadata": {},
          "execution_count": 138
        }
      ]
    },
    {
      "cell_type": "code",
      "source": [
        "sp.solve([eq1, eq2])"
      ],
      "metadata": {
        "id": "_cCEAfgm0Qu0",
        "outputId": "692c5b3a-e0a3-4a96-f011-af885dc463e3",
        "colab": {
          "base_uri": "https://localhost:8080/"
        }
      },
      "execution_count": 139,
      "outputs": [
        {
          "output_type": "execute_result",
          "data": {
            "text/plain": [
              "{x: 5, y: 0}"
            ]
          },
          "metadata": {},
          "execution_count": 139
        }
      ]
    },
    {
      "cell_type": "markdown",
      "source": [
        "Question 3"
      ],
      "metadata": {
        "id": "47x3_6sNnTub"
      }
    },
    {
      "cell_type": "code",
      "source": [
        "import sympy as sp\n",
        "x, y, z = symbols('x y z')\n",
        "\n",
        "eq1 = EnhancedEq(2*x - y + z, 3)\n",
        "eq2 = EnhancedEq(x + 2*y - z, 1)\n",
        "eq3 = EnhancedEq(3*x - y + 2*z, 11)\n",
        "\n",
        "eq1"
      ],
      "metadata": {
        "id": "RQ1Z7qbPnbX_",
        "outputId": "82e6b97e-e94a-49a1-f211-54edb7eb3af0",
        "colab": {
          "base_uri": "https://localhost:8080/",
          "height": 39
        }
      },
      "execution_count": 140,
      "outputs": [
        {
          "output_type": "execute_result",
          "data": {
            "text/plain": [
              "Eq(2*x - y + z, 3)"
            ],
            "text/latex": "$\\displaystyle 2 x - y + z = 3$"
          },
          "metadata": {},
          "execution_count": 140
        }
      ]
    },
    {
      "cell_type": "code",
      "source": [
        "eq2"
      ],
      "metadata": {
        "id": "gzWLPj8inogE",
        "outputId": "0cf2ce1e-136c-4414-f55b-eb3c7c09dd17",
        "colab": {
          "base_uri": "https://localhost:8080/",
          "height": 39
        }
      },
      "execution_count": 141,
      "outputs": [
        {
          "output_type": "execute_result",
          "data": {
            "text/plain": [
              "Eq(x + 2*y - z, 1)"
            ],
            "text/latex": "$\\displaystyle x + 2 y - z = 1$"
          },
          "metadata": {},
          "execution_count": 141
        }
      ]
    },
    {
      "cell_type": "code",
      "source": [
        "eq3"
      ],
      "metadata": {
        "id": "w1adEQdtnsrs",
        "outputId": "260b0ce9-5567-4dca-f199-103351fb60e2",
        "colab": {
          "base_uri": "https://localhost:8080/",
          "height": 39
        }
      },
      "execution_count": 142,
      "outputs": [
        {
          "output_type": "execute_result",
          "data": {
            "text/plain": [
              "Eq(3*x - y + 2*z, 11)"
            ],
            "text/latex": "$\\displaystyle 3 x - y + 2 z = 11$"
          },
          "metadata": {},
          "execution_count": 142
        }
      ]
    },
    {
      "cell_type": "code",
      "source": [
        "eq4 = eq1 + eq2  # 3x + y = 4\n",
        "eq4"
      ],
      "metadata": {
        "id": "avZhm6tMnwFF",
        "outputId": "d4450254-e6eb-4888-81fd-785a250ca720",
        "colab": {
          "base_uri": "https://localhost:8080/",
          "height": 39
        }
      },
      "execution_count": 143,
      "outputs": [
        {
          "output_type": "execute_result",
          "data": {
            "text/plain": [
              "Eq(3*x + y, 4)"
            ],
            "text/latex": "$\\displaystyle 3 x + y = 4$"
          },
          "metadata": {},
          "execution_count": 143
        }
      ]
    },
    {
      "cell_type": "code",
      "source": [
        "eq5 = eq2 * 2\n",
        "eq6 = eq5 + eq3  # 2y + 2z = 22\n",
        "eq6"
      ],
      "metadata": {
        "id": "R3LkLXtn2xK-",
        "outputId": "a2b3fd9a-f8f7-4917-abb1-2c2fe53ecbcb",
        "colab": {
          "base_uri": "https://localhost:8080/",
          "height": 39
        }
      },
      "execution_count": 144,
      "outputs": [
        {
          "output_type": "execute_result",
          "data": {
            "text/plain": [
              "Eq(5*x + 3*y, 13)"
            ],
            "text/latex": "$\\displaystyle 5 x + 3 y = 13$"
          },
          "metadata": {},
          "execution_count": 144
        }
      ]
    },
    {
      "cell_type": "code",
      "source": [
        "eq7 = eq4 * 5\n",
        "eq7"
      ],
      "metadata": {
        "id": "CV3iYBuL3gt8",
        "outputId": "47f41199-4dd0-45a4-dffd-fd022d66d3ea",
        "colab": {
          "base_uri": "https://localhost:8080/",
          "height": 39
        }
      },
      "execution_count": 145,
      "outputs": [
        {
          "output_type": "execute_result",
          "data": {
            "text/plain": [
              "Eq(15*x + 5*y, 20)"
            ],
            "text/latex": "$\\displaystyle 15 x + 5 y = 20$"
          },
          "metadata": {},
          "execution_count": 145
        }
      ]
    },
    {
      "cell_type": "code",
      "source": [
        "eq8 = eq6 * 3\n",
        "eq8"
      ],
      "metadata": {
        "id": "y31oSbhY346q",
        "outputId": "3dcb5ff3-af4c-41c5-d399-c26a8a4ce1b7",
        "colab": {
          "base_uri": "https://localhost:8080/",
          "height": 39
        }
      },
      "execution_count": 146,
      "outputs": [
        {
          "output_type": "execute_result",
          "data": {
            "text/plain": [
              "Eq(15*x + 9*y, 39)"
            ],
            "text/latex": "$\\displaystyle 15 x + 9 y = 39$"
          },
          "metadata": {},
          "execution_count": 146
        }
      ]
    },
    {
      "cell_type": "code",
      "source": [
        "eq9 = eq8 - eq7\n",
        "eq9"
      ],
      "metadata": {
        "id": "edkutzSF4Beg",
        "outputId": "318b6ff1-a37d-44c3-c6ab-cc5d96678e2c",
        "colab": {
          "base_uri": "https://localhost:8080/",
          "height": 39
        }
      },
      "execution_count": 147,
      "outputs": [
        {
          "output_type": "execute_result",
          "data": {
            "text/plain": [
              "Eq(4*y, 19)"
            ],
            "text/latex": "$\\displaystyle 4 y = 19$"
          },
          "metadata": {},
          "execution_count": 147
        }
      ]
    },
    {
      "cell_type": "code",
      "source": [
        "sol_y = eq9.solve_for(y)[0]\n",
        "sol_y"
      ],
      "metadata": {
        "id": "7YflQ-Us4BbD",
        "outputId": "dfcd24cc-37d4-49a3-f779-96609f55c3f5",
        "colab": {
          "base_uri": "https://localhost:8080/",
          "height": 51
        }
      },
      "execution_count": 148,
      "outputs": [
        {
          "output_type": "execute_result",
          "data": {
            "text/plain": [
              "19/4"
            ],
            "text/latex": "$\\displaystyle \\frac{19}{4}$"
          },
          "metadata": {},
          "execution_count": 148
        }
      ]
    },
    {
      "cell_type": "code",
      "source": [
        "eq4 = eq4.substitute(y, sol_y)\n",
        "sol_x = eq4.solve_for(x)[0]\n",
        "sol_x"
      ],
      "metadata": {
        "id": "BKTH4uAR62Hp",
        "outputId": "edf6b79d-11b5-4678-819d-cc01902638b8",
        "colab": {
          "base_uri": "https://localhost:8080/",
          "height": 51
        }
      },
      "execution_count": 151,
      "outputs": [
        {
          "output_type": "execute_result",
          "data": {
            "text/plain": [
              "-1/4"
            ],
            "text/latex": "$\\displaystyle - \\frac{1}{4}$"
          },
          "metadata": {},
          "execution_count": 151
        }
      ]
    },
    {
      "cell_type": "code",
      "source": [
        "eq3 = eq3.substitute(x, sol_x)\n",
        "eq3 = eq3.substitute(y, sol_y)\n",
        "sol_z = eq3.solve_for(z)[0]\n",
        "sol_z"
      ],
      "metadata": {
        "id": "oosMeBrD7BpW",
        "outputId": "2f6aaabc-528b-4e61-e07e-9e5598f7e5d0",
        "colab": {
          "base_uri": "https://localhost:8080/",
          "height": 51
        }
      },
      "execution_count": 153,
      "outputs": [
        {
          "output_type": "execute_result",
          "data": {
            "text/plain": [
              "33/4"
            ],
            "text/latex": "$\\displaystyle \\frac{33}{4}$"
          },
          "metadata": {},
          "execution_count": 153
        }
      ]
    },
    {
      "cell_type": "code",
      "source": [
        "sp.solve([eq1, eq2, eq3])"
      ],
      "metadata": {
        "id": "fF4ldlad7TWx",
        "outputId": "8fd53f25-c38f-4177-e3ca-17cc2f0501c6",
        "colab": {
          "base_uri": "https://localhost:8080/"
        }
      },
      "execution_count": 154,
      "outputs": [
        {
          "output_type": "execute_result",
          "data": {
            "text/plain": [
              "{x: -1/4, y: 19/4, z: 33/4}"
            ]
          },
          "metadata": {},
          "execution_count": 154
        }
      ]
    }
  ],
  "metadata": {
    "kernelspec": {
      "display_name": "Python 3",
      "language": "python",
      "name": "python3"
    },
    "language_info": {
      "codemirror_mode": {
        "name": "ipython",
        "version": 3
      },
      "file_extension": ".py",
      "mimetype": "text/x-python",
      "name": "python",
      "nbconvert_exporter": "python",
      "pygments_lexer": "ipython3",
      "version": "3.11.9"
    },
    "colab": {
      "provenance": [],
      "include_colab_link": true
    }
  },
  "nbformat": 4,
  "nbformat_minor": 0
}